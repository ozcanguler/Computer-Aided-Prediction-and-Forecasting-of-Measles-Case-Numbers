{
  "cells": [
    {
      "cell_type": "code",
      "execution_count": null,
      "metadata": {
        "colab": {
          "base_uri": "https://localhost:8080/"
        },
        "id": "zoyZg-29RT5E",
        "outputId": "5134db72-3cc3-46b4-c11f-1ed4209ab497"
      },
      "outputs": [
        {
          "output_type": "stream",
          "name": "stdout",
          "text": [
            "Mounted at /content/drive\n"
          ]
        }
      ],
      "source": [
        "from google.colab import drive\n",
        "drive.mount('/content/drive')"
      ]
    },
    {
      "cell_type": "code",
      "execution_count": null,
      "metadata": {
        "id": "nMBxaX58flon"
      },
      "outputs": [],
      "source": [
        "import pandas as pd\n",
        "import numpy as np\n",
        "\n",
        "import matplotlib.pyplot as plt\n",
        "import seaborn as sns\n",
        "sns.set_style('whitegrid')\n",
        "plt.style.use(\"fivethirtyeight\")\n",
        "%matplotlib inline\n",
        "\n",
        "# For reading stock data from yahoo\n",
        "from pandas_datareader.data import DataReader\n",
        "from pandas_datareader import data as pdr\n",
        "\n",
        "\n",
        "# For time stamps\n",
        "from datetime import datetime\n"
      ]
    },
    {
      "cell_type": "code",
      "execution_count": null,
      "metadata": {
        "id": "j6llB_-rfpz1"
      },
      "outputs": [],
      "source": [
        "df = pd.read_csv('/content/drive/MyDrive/Colab Notebooks/Measles/cameroon.csv', parse_dates= True , index_col= \"Year-Month\")"
      ]
    },
    {
      "cell_type": "code",
      "execution_count": null,
      "metadata": {
        "colab": {
          "base_uri": "https://localhost:8080/"
        },
        "id": "QmauU2m7fycs",
        "outputId": "0a3ab186-2ac4-4325-8060-6995da009bb0"
      },
      "outputs": [
        {
          "output_type": "execute_result",
          "data": {
            "text/plain": [
              "147"
            ]
          },
          "metadata": {},
          "execution_count": 9
        }
      ],
      "source": [
        "# Create a new dataframe with only the 'Close column\n",
        "data = df.filter(['Cases'])\n",
        "# Convert the dataframe to a numpy array\n",
        "dataset = data.values\n",
        "# Get the number of rows to train the model on\n",
        "training_data_len = int(np.ceil( len(dataset) * .92 ))\n",
        "\n",
        "training_data_len"
      ]
    },
    {
      "cell_type": "code",
      "execution_count": null,
      "metadata": {
        "colab": {
          "base_uri": "https://localhost:8080/"
        },
        "id": "Mg1az-Rbf2Er",
        "outputId": "2b1f62cd-9ea4-48da-f1e3-b479b67cdcf5"
      },
      "outputs": [
        {
          "output_type": "execute_result",
          "data": {
            "text/plain": [
              "array([[0.03312883],\n",
              "       [0.08773006],\n",
              "       [0.11165644],\n",
              "       [0.06196319],\n",
              "       [0.06748466],\n",
              "       [0.03190184],\n",
              "       [0.01533742],\n",
              "       [0.01165644],\n",
              "       [0.00552147],\n",
              "       [0.02208589],\n",
              "       [0.03496933],\n",
              "       [0.0595092 ],\n",
              "       [0.12883436],\n",
              "       [0.09079755],\n",
              "       [0.05276074],\n",
              "       [0.02576687],\n",
              "       [0.00613497],\n",
              "       [0.01533742],\n",
              "       [0.01042945],\n",
              "       [0.        ],\n",
              "       [0.        ],\n",
              "       [0.00981595],\n",
              "       [0.00736196],\n",
              "       [0.00490798],\n",
              "       [0.05582822],\n",
              "       [0.07546012],\n",
              "       [0.05092025],\n",
              "       [0.0190184 ],\n",
              "       [0.10368098],\n",
              "       [0.0993865 ],\n",
              "       [0.00490798],\n",
              "       [0.00429448],\n",
              "       [0.00122699],\n",
              "       [0.00122699],\n",
              "       [0.01472393],\n",
              "       [0.01472393],\n",
              "       [0.04417178],\n",
              "       [0.07546012],\n",
              "       [0.0595092 ],\n",
              "       [0.06441718],\n",
              "       [0.0404908 ],\n",
              "       [0.0404908 ],\n",
              "       [0.0208589 ],\n",
              "       [0.00613497],\n",
              "       [0.01165644],\n",
              "       [0.0196319 ],\n",
              "       [0.03435583],\n",
              "       [0.02944785],\n",
              "       [0.36319018],\n",
              "       [0.22208589],\n",
              "       [0.17668712],\n",
              "       [0.10368098],\n",
              "       [0.07484663],\n",
              "       [0.08404908],\n",
              "       [0.03006135],\n",
              "       [0.00674847],\n",
              "       [0.00306748],\n",
              "       [0.01042945],\n",
              "       [0.0208589 ],\n",
              "       [0.02331288],\n",
              "       [0.02453988],\n",
              "       [0.0196319 ],\n",
              "       [0.01226994],\n",
              "       [0.0398773 ],\n",
              "       [0.09877301],\n",
              "       [0.06748466],\n",
              "       [0.0398773 ],\n",
              "       [0.01717791],\n",
              "       [0.01840491],\n",
              "       [0.01042945],\n",
              "       [0.01226994],\n",
              "       [0.01349693],\n",
              "       [0.01104294],\n",
              "       [0.02331288],\n",
              "       [0.02269939],\n",
              "       [0.01595092],\n",
              "       [0.01104294],\n",
              "       [0.00981595],\n",
              "       [0.01165644],\n",
              "       [0.01472393],\n",
              "       [0.01595092],\n",
              "       [0.09079755],\n",
              "       [0.10368098],\n",
              "       [0.07546012],\n",
              "       [0.07116564],\n",
              "       [0.0791411 ],\n",
              "       [0.05092025],\n",
              "       [0.05214724],\n",
              "       [0.06809816],\n",
              "       [0.05092025],\n",
              "       [0.00306748],\n",
              "       [0.00122699],\n",
              "       [0.00184049],\n",
              "       [0.00920245],\n",
              "       [0.09079755],\n",
              "       [0.00184049],\n",
              "       [0.09877301],\n",
              "       [0.22392638],\n",
              "       [0.17546012],\n",
              "       [0.16932515],\n",
              "       [0.16748466],\n",
              "       [0.13190184],\n",
              "       [0.12147239],\n",
              "       [0.0791411 ],\n",
              "       [0.1196319 ],\n",
              "       [0.21779141],\n",
              "       [0.13251534],\n",
              "       [0.0809816 ],\n",
              "       [0.28895706],\n",
              "       [0.25153374],\n",
              "       [0.19447853],\n",
              "       [0.08957055],\n",
              "       [0.03006135],\n",
              "       [0.00552147],\n",
              "       [0.00490798],\n",
              "       [0.00306748],\n",
              "       [0.00122699],\n",
              "       [0.00245399],\n",
              "       [0.00368098],\n",
              "       [0.00490798],\n",
              "       [0.06687117],\n",
              "       [0.02699387],\n",
              "       [0.03067485],\n",
              "       [0.03006135],\n",
              "       [0.0404908 ],\n",
              "       [0.02699387],\n",
              "       [0.03190184],\n",
              "       [0.06134969],\n",
              "       [0.01595092],\n",
              "       [0.01104294],\n",
              "       [0.04601227],\n",
              "       [0.06257669],\n",
              "       [0.12515337],\n",
              "       [0.29631902],\n",
              "       [0.36564417],\n",
              "       [0.23128834],\n",
              "       [0.15153374],\n",
              "       [0.13128834],\n",
              "       [0.10184049],\n",
              "       [0.03496933],\n",
              "       [0.03742331],\n",
              "       [0.09202454],\n",
              "       [0.1404908 ],\n",
              "       [0.1404908 ],\n",
              "       [0.37177914],\n",
              "       [0.70736196],\n",
              "       [1.        ],\n",
              "       [0.73680982],\n",
              "       [0.5601227 ],\n",
              "       [0.27239264],\n",
              "       [0.05766871],\n",
              "       [0.00736196],\n",
              "       [0.00736196],\n",
              "       [0.01656442],\n",
              "       [0.00736196],\n",
              "       [0.01288344],\n",
              "       [0.04233129],\n",
              "       [0.06687117],\n",
              "       [0.00306748]])"
            ]
          },
          "metadata": {},
          "execution_count": 6
        }
      ],
      "source": [
        "# Scale the data\n",
        "from sklearn.preprocessing import MinMaxScaler\n",
        "\n",
        "scaler = MinMaxScaler(feature_range=(0,1))\n",
        "scaled_data = scaler.fit_transform(dataset)\n",
        "\n",
        "scaled_data"
      ]
    },
    {
      "cell_type": "code",
      "execution_count": null,
      "metadata": {
        "colab": {
          "base_uri": "https://localhost:8080/"
        },
        "id": "nsqgK9a8dDBR",
        "outputId": "57a85179-0a7d-4865-ad8a-ca3aca4b3383"
      },
      "outputs": [
        {
          "output_type": "stream",
          "name": "stdout",
          "text": [
            "[array([0.03312883, 0.08773006, 0.11165644, 0.06196319, 0.06748466,\n",
            "       0.03190184, 0.01533742, 0.01165644, 0.00552147, 0.02208589,\n",
            "       0.03496933, 0.0595092 , 0.12883436, 0.09079755, 0.05276074,\n",
            "       0.02576687, 0.00613497, 0.01533742, 0.01042945, 0.        ,\n",
            "       0.        , 0.00981595, 0.00736196, 0.00490798, 0.05582822,\n",
            "       0.07546012, 0.05092025, 0.0190184 , 0.10368098, 0.0993865 ])]\n",
            "[0.0049079754601227005]\n",
            "\n",
            "[array([0.03312883, 0.08773006, 0.11165644, 0.06196319, 0.06748466,\n",
            "       0.03190184, 0.01533742, 0.01165644, 0.00552147, 0.02208589,\n",
            "       0.03496933, 0.0595092 , 0.12883436, 0.09079755, 0.05276074,\n",
            "       0.02576687, 0.00613497, 0.01533742, 0.01042945, 0.        ,\n",
            "       0.        , 0.00981595, 0.00736196, 0.00490798, 0.05582822,\n",
            "       0.07546012, 0.05092025, 0.0190184 , 0.10368098, 0.0993865 ]), array([0.08773006, 0.11165644, 0.06196319, 0.06748466, 0.03190184,\n",
            "       0.01533742, 0.01165644, 0.00552147, 0.02208589, 0.03496933,\n",
            "       0.0595092 , 0.12883436, 0.09079755, 0.05276074, 0.02576687,\n",
            "       0.00613497, 0.01533742, 0.01042945, 0.        , 0.        ,\n",
            "       0.00981595, 0.00736196, 0.00490798, 0.05582822, 0.07546012,\n",
            "       0.05092025, 0.0190184 , 0.10368098, 0.0993865 , 0.00490798])]\n",
            "[0.0049079754601227005, 0.0042944785276073615]\n",
            "\n"
          ]
        }
      ],
      "source": [
        "# Create the training data set\n",
        "# Create the scaled training data set\n",
        "train_data = scaled_data[0:int(training_data_len), :]\n",
        "# Split the data into x_train and y_train data sets\n",
        "x_train = []\n",
        "y_train = []\n",
        "\n",
        "for i in range(30, len(train_data)):\n",
        "    x_train.append(train_data[i-30:i, 0])\n",
        "    y_train.append(train_data[i, 0])\n",
        "    if i<= 31:\n",
        "        print(x_train)\n",
        "        print(y_train)\n",
        "        print()\n",
        "\n",
        "# Convert the x_train and y_train to numpy arrays\n",
        "x_train, y_train = np.array(x_train), np.array(y_train)\n",
        "\n",
        "# Reshape the data\n",
        "x_train = np.reshape(x_train, (x_train.shape[0], x_train.shape[1], 1))\n",
        "# x_train.shape"
      ]
    },
    {
      "cell_type": "code",
      "execution_count": null,
      "metadata": {
        "colab": {
          "base_uri": "https://localhost:8080/"
        },
        "id": "E1DjktXagW4g",
        "outputId": "d57e7d6b-62c9-4c8e-8117-99b23a61e833"
      },
      "outputs": [
        {
          "output_type": "stream",
          "name": "stdout",
          "text": [
            "Epoch 1/50\n",
            "12/12 [==============================] - 5s 99ms/step - loss: 0.0065 - val_loss: 0.0659\n",
            "Epoch 2/50\n",
            "12/12 [==============================] - 0s 30ms/step - loss: 0.0047 - val_loss: 0.0606\n",
            "Epoch 3/50\n",
            "12/12 [==============================] - 0s 30ms/step - loss: 0.0051 - val_loss: 0.0641\n",
            "Epoch 4/50\n",
            "12/12 [==============================] - 0s 37ms/step - loss: 0.0048 - val_loss: 0.0624\n",
            "Epoch 5/50\n",
            "12/12 [==============================] - 0s 40ms/step - loss: 0.0046 - val_loss: 0.0627\n",
            "Epoch 6/50\n",
            "12/12 [==============================] - 1s 44ms/step - loss: 0.0045 - val_loss: 0.0588\n",
            "Epoch 7/50\n",
            "12/12 [==============================] - 0s 40ms/step - loss: 0.0045 - val_loss: 0.0598\n",
            "Epoch 8/50\n",
            "12/12 [==============================] - 0s 37ms/step - loss: 0.0043 - val_loss: 0.0587\n",
            "Epoch 9/50\n",
            "12/12 [==============================] - 0s 30ms/step - loss: 0.0043 - val_loss: 0.0570\n",
            "Epoch 10/50\n",
            "12/12 [==============================] - 0s 34ms/step - loss: 0.0045 - val_loss: 0.0598\n",
            "Epoch 11/50\n",
            "12/12 [==============================] - 0s 32ms/step - loss: 0.0043 - val_loss: 0.0552\n",
            "Epoch 12/50\n",
            "12/12 [==============================] - 0s 31ms/step - loss: 0.0041 - val_loss: 0.0553\n",
            "Epoch 13/50\n",
            "12/12 [==============================] - 0s 31ms/step - loss: 0.0041 - val_loss: 0.0520\n",
            "Epoch 14/50\n",
            "12/12 [==============================] - 0s 32ms/step - loss: 0.0039 - val_loss: 0.0527\n",
            "Epoch 15/50\n",
            "12/12 [==============================] - 0s 33ms/step - loss: 0.0039 - val_loss: 0.0503\n",
            "Epoch 16/50\n",
            "12/12 [==============================] - 0s 32ms/step - loss: 0.0040 - val_loss: 0.0502\n",
            "Epoch 17/50\n",
            "12/12 [==============================] - 0s 34ms/step - loss: 0.0042 - val_loss: 0.0501\n",
            "Epoch 18/50\n",
            "12/12 [==============================] - 0s 29ms/step - loss: 0.0038 - val_loss: 0.0486\n",
            "Epoch 19/50\n",
            "12/12 [==============================] - 0s 30ms/step - loss: 0.0035 - val_loss: 0.0467\n",
            "Epoch 20/50\n",
            "12/12 [==============================] - 0s 28ms/step - loss: 0.0035 - val_loss: 0.0443\n",
            "Epoch 21/50\n",
            "12/12 [==============================] - 0s 28ms/step - loss: 0.0037 - val_loss: 0.0460\n",
            "Epoch 22/50\n",
            "12/12 [==============================] - 0s 30ms/step - loss: 0.0038 - val_loss: 0.0437\n",
            "Epoch 23/50\n",
            "12/12 [==============================] - 0s 28ms/step - loss: 0.0033 - val_loss: 0.0404\n",
            "Epoch 24/50\n",
            "12/12 [==============================] - 0s 32ms/step - loss: 0.0033 - val_loss: 0.0414\n",
            "Epoch 25/50\n",
            "12/12 [==============================] - 0s 33ms/step - loss: 0.0033 - val_loss: 0.0366\n",
            "Epoch 26/50\n",
            "12/12 [==============================] - 0s 30ms/step - loss: 0.0035 - val_loss: 0.0402\n",
            "Epoch 27/50\n",
            "12/12 [==============================] - 0s 31ms/step - loss: 0.0033 - val_loss: 0.0346\n",
            "Epoch 28/50\n",
            "12/12 [==============================] - 0s 33ms/step - loss: 0.0034 - val_loss: 0.0353\n",
            "Epoch 29/50\n",
            "12/12 [==============================] - 0s 32ms/step - loss: 0.0033 - val_loss: 0.0342\n",
            "Epoch 30/50\n",
            "12/12 [==============================] - 0s 32ms/step - loss: 0.0031 - val_loss: 0.0334\n",
            "Epoch 31/50\n",
            "12/12 [==============================] - 0s 32ms/step - loss: 0.0032 - val_loss: 0.0319\n",
            "Epoch 32/50\n",
            "12/12 [==============================] - 0s 31ms/step - loss: 0.0033 - val_loss: 0.0308\n",
            "Epoch 33/50\n",
            "12/12 [==============================] - 0s 33ms/step - loss: 0.0032 - val_loss: 0.0292\n",
            "Epoch 34/50\n",
            "12/12 [==============================] - 0s 30ms/step - loss: 0.0030 - val_loss: 0.0291\n",
            "Epoch 35/50\n",
            "12/12 [==============================] - 0s 43ms/step - loss: 0.0028 - val_loss: 0.0295\n",
            "Epoch 36/50\n",
            "12/12 [==============================] - 1s 45ms/step - loss: 0.0031 - val_loss: 0.0272\n",
            "Epoch 37/50\n",
            "12/12 [==============================] - 0s 38ms/step - loss: 0.0031 - val_loss: 0.0252\n",
            "Epoch 38/50\n",
            "12/12 [==============================] - 1s 44ms/step - loss: 0.0028 - val_loss: 0.0285\n",
            "Epoch 39/50\n",
            "12/12 [==============================] - 0s 33ms/step - loss: 0.0032 - val_loss: 0.0286\n",
            "Epoch 40/50\n",
            "12/12 [==============================] - 0s 33ms/step - loss: 0.0031 - val_loss: 0.0276\n",
            "Epoch 41/50\n",
            "12/12 [==============================] - 0s 33ms/step - loss: 0.0032 - val_loss: 0.0285\n",
            "Epoch 42/50\n",
            "12/12 [==============================] - 0s 33ms/step - loss: 0.0032 - val_loss: 0.0245\n",
            "Epoch 43/50\n",
            "12/12 [==============================] - 0s 33ms/step - loss: 0.0032 - val_loss: 0.0319\n",
            "Epoch 44/50\n",
            "12/12 [==============================] - 0s 30ms/step - loss: 0.0029 - val_loss: 0.0265\n",
            "Epoch 45/50\n",
            "12/12 [==============================] - 0s 32ms/step - loss: 0.0032 - val_loss: 0.0271\n",
            "Epoch 46/50\n",
            "12/12 [==============================] - 0s 31ms/step - loss: 0.0031 - val_loss: 0.0263\n",
            "Epoch 47/50\n",
            "12/12 [==============================] - 0s 28ms/step - loss: 0.0030 - val_loss: 0.0276\n",
            "Epoch 48/50\n",
            "12/12 [==============================] - 0s 29ms/step - loss: 0.0033 - val_loss: 0.0273\n",
            "Epoch 49/50\n",
            "12/12 [==============================] - 0s 27ms/step - loss: 0.0032 - val_loss: 0.0247\n",
            "Epoch 50/50\n",
            "12/12 [==============================] - 0s 28ms/step - loss: 0.0035 - val_loss: 0.0286\n"
          ]
        },
        {
          "output_type": "execute_result",
          "data": {
            "text/plain": [
              "<keras.src.callbacks.History at 0x788aa959eec0>"
            ]
          },
          "metadata": {},
          "execution_count": 22
        }
      ],
      "source": [
        "from keras.models import Sequential\n",
        "from keras.layers import Dense, LSTM, Dropout\n",
        "from keras.optimizers import Adam\n",
        "# Build the LSTM model\n",
        "model = Sequential()\n",
        "model.add(LSTM(128, return_sequences=True, input_shape= (x_train.shape[1], 1)))\n",
        "model.add(Dropout(0.4))  # Adding dropout to prevent overfitting\n",
        "model.add(LSTM(64, return_sequences=False))\n",
        "model.add(Dense(25,activation='relu'))\n",
        "#model.add(Dense(25))\n",
        "model.add(Dense(1))\n",
        "adam = Adam(learning_rate=0.001)\n",
        "# Compile the model\n",
        "model.compile(optimizer='adam', loss='mean_squared_error')\n",
        "\n",
        "# Train the model\n",
        "model.fit(x_train, y_train, batch_size=8, epochs=50, validation_split=0.2)\n",
        "#model.fit(x_train, y_train, batch_size=8, epochs=10)"
      ]
    },
    {
      "cell_type": "code",
      "execution_count": null,
      "metadata": {
        "id": "Q5CwSaFX2Bc4",
        "colab": {
          "base_uri": "https://localhost:8080/"
        },
        "outputId": "aa32e4fb-2863-4d3d-dbee-5abdc3212e79"
      },
      "outputs": [
        {
          "output_type": "stream",
          "name": "stdout",
          "text": [
            "1/1 [==============================] - 1s 576ms/step\n"
          ]
        },
        {
          "output_type": "execute_result",
          "data": {
            "text/plain": [
              "43.65038173059303"
            ]
          },
          "metadata": {},
          "execution_count": 23
        }
      ],
      "source": [
        "# Create the testing data set\n",
        "# Create a new array containing scaled values from index 1543 to 2002\n",
        "test_data = scaled_data[training_data_len - 30: , :]\n",
        "# Create the data sets x_test and y_test\n",
        "x_test = []\n",
        "y_test = dataset[training_data_len:, :]\n",
        "for i in range(30, len(test_data)):\n",
        "    x_test.append(test_data[i-30:i, 0])\n",
        "\n",
        "# Convert the data to a numpy array\n",
        "x_test = np.array(x_test)\n",
        "\n",
        "# Reshape the data\n",
        "x_test = np.reshape(x_test, (x_test.shape[0], x_test.shape[1], 1 ))\n",
        "\n",
        "# Get the models predicted price values\n",
        "predictions = model.predict(x_test)\n",
        "predictions = scaler.inverse_transform(predictions)\n",
        "\n",
        "# Get the root mean squared error (RMSE)\n",
        "rmse = np.sqrt(np.mean(((predictions - y_test) ** 2)))\n",
        "rmse"
      ]
    },
    {
      "cell_type": "code",
      "execution_count": null,
      "metadata": {
        "id": "UteZffIngYeD",
        "colab": {
          "base_uri": "https://localhost:8080/",
          "height": 457
        },
        "outputId": "288b8fbe-146d-4823-f593-cc67a821f4aa"
      },
      "outputs": [
        {
          "output_type": "execute_result",
          "data": {
            "text/plain": [
              "            Cases  Predictions\n",
              "Year-Month                    \n",
              "2023-04-01   1205  1154.602200\n",
              "2023-05-01    917   830.247500\n",
              "2023-06-01    448   476.846100\n",
              "2023-07-01     98   156.919540\n",
              "2023-08-01     16     4.269208\n",
              "2023-09-01     16     6.639556\n",
              "2023-10-01     31    16.613388\n",
              "2023-11-01     16    35.807884\n",
              "2023-12-01     25    51.690372\n",
              "2024-01-01     73    54.546368\n",
              "2024-02-01    113    59.553630\n",
              "2024-03-01      9    70.324870"
            ],
            "text/html": [
              "\n",
              "  <div id=\"df-2ac6a2d2-c575-423d-9643-d5e46e0667fd\" class=\"colab-df-container\">\n",
              "    <div>\n",
              "<style scoped>\n",
              "    .dataframe tbody tr th:only-of-type {\n",
              "        vertical-align: middle;\n",
              "    }\n",
              "\n",
              "    .dataframe tbody tr th {\n",
              "        vertical-align: top;\n",
              "    }\n",
              "\n",
              "    .dataframe thead th {\n",
              "        text-align: right;\n",
              "    }\n",
              "</style>\n",
              "<table border=\"1\" class=\"dataframe\">\n",
              "  <thead>\n",
              "    <tr style=\"text-align: right;\">\n",
              "      <th></th>\n",
              "      <th>Cases</th>\n",
              "      <th>Predictions</th>\n",
              "    </tr>\n",
              "    <tr>\n",
              "      <th>Year-Month</th>\n",
              "      <th></th>\n",
              "      <th></th>\n",
              "    </tr>\n",
              "  </thead>\n",
              "  <tbody>\n",
              "    <tr>\n",
              "      <th>2023-04-01</th>\n",
              "      <td>1205</td>\n",
              "      <td>1154.602200</td>\n",
              "    </tr>\n",
              "    <tr>\n",
              "      <th>2023-05-01</th>\n",
              "      <td>917</td>\n",
              "      <td>830.247500</td>\n",
              "    </tr>\n",
              "    <tr>\n",
              "      <th>2023-06-01</th>\n",
              "      <td>448</td>\n",
              "      <td>476.846100</td>\n",
              "    </tr>\n",
              "    <tr>\n",
              "      <th>2023-07-01</th>\n",
              "      <td>98</td>\n",
              "      <td>156.919540</td>\n",
              "    </tr>\n",
              "    <tr>\n",
              "      <th>2023-08-01</th>\n",
              "      <td>16</td>\n",
              "      <td>4.269208</td>\n",
              "    </tr>\n",
              "    <tr>\n",
              "      <th>2023-09-01</th>\n",
              "      <td>16</td>\n",
              "      <td>6.639556</td>\n",
              "    </tr>\n",
              "    <tr>\n",
              "      <th>2023-10-01</th>\n",
              "      <td>31</td>\n",
              "      <td>16.613388</td>\n",
              "    </tr>\n",
              "    <tr>\n",
              "      <th>2023-11-01</th>\n",
              "      <td>16</td>\n",
              "      <td>35.807884</td>\n",
              "    </tr>\n",
              "    <tr>\n",
              "      <th>2023-12-01</th>\n",
              "      <td>25</td>\n",
              "      <td>51.690372</td>\n",
              "    </tr>\n",
              "    <tr>\n",
              "      <th>2024-01-01</th>\n",
              "      <td>73</td>\n",
              "      <td>54.546368</td>\n",
              "    </tr>\n",
              "    <tr>\n",
              "      <th>2024-02-01</th>\n",
              "      <td>113</td>\n",
              "      <td>59.553630</td>\n",
              "    </tr>\n",
              "    <tr>\n",
              "      <th>2024-03-01</th>\n",
              "      <td>9</td>\n",
              "      <td>70.324870</td>\n",
              "    </tr>\n",
              "  </tbody>\n",
              "</table>\n",
              "</div>\n",
              "    <div class=\"colab-df-buttons\">\n",
              "\n",
              "  <div class=\"colab-df-container\">\n",
              "    <button class=\"colab-df-convert\" onclick=\"convertToInteractive('df-2ac6a2d2-c575-423d-9643-d5e46e0667fd')\"\n",
              "            title=\"Convert this dataframe to an interactive table.\"\n",
              "            style=\"display:none;\">\n",
              "\n",
              "  <svg xmlns=\"http://www.w3.org/2000/svg\" height=\"24px\" viewBox=\"0 -960 960 960\">\n",
              "    <path d=\"M120-120v-720h720v720H120Zm60-500h600v-160H180v160Zm220 220h160v-160H400v160Zm0 220h160v-160H400v160ZM180-400h160v-160H180v160Zm440 0h160v-160H620v160ZM180-180h160v-160H180v160Zm440 0h160v-160H620v160Z\"/>\n",
              "  </svg>\n",
              "    </button>\n",
              "\n",
              "  <style>\n",
              "    .colab-df-container {\n",
              "      display:flex;\n",
              "      gap: 12px;\n",
              "    }\n",
              "\n",
              "    .colab-df-convert {\n",
              "      background-color: #E8F0FE;\n",
              "      border: none;\n",
              "      border-radius: 50%;\n",
              "      cursor: pointer;\n",
              "      display: none;\n",
              "      fill: #1967D2;\n",
              "      height: 32px;\n",
              "      padding: 0 0 0 0;\n",
              "      width: 32px;\n",
              "    }\n",
              "\n",
              "    .colab-df-convert:hover {\n",
              "      background-color: #E2EBFA;\n",
              "      box-shadow: 0px 1px 2px rgba(60, 64, 67, 0.3), 0px 1px 3px 1px rgba(60, 64, 67, 0.15);\n",
              "      fill: #174EA6;\n",
              "    }\n",
              "\n",
              "    .colab-df-buttons div {\n",
              "      margin-bottom: 4px;\n",
              "    }\n",
              "\n",
              "    [theme=dark] .colab-df-convert {\n",
              "      background-color: #3B4455;\n",
              "      fill: #D2E3FC;\n",
              "    }\n",
              "\n",
              "    [theme=dark] .colab-df-convert:hover {\n",
              "      background-color: #434B5C;\n",
              "      box-shadow: 0px 1px 3px 1px rgba(0, 0, 0, 0.15);\n",
              "      filter: drop-shadow(0px 1px 2px rgba(0, 0, 0, 0.3));\n",
              "      fill: #FFFFFF;\n",
              "    }\n",
              "  </style>\n",
              "\n",
              "    <script>\n",
              "      const buttonEl =\n",
              "        document.querySelector('#df-2ac6a2d2-c575-423d-9643-d5e46e0667fd button.colab-df-convert');\n",
              "      buttonEl.style.display =\n",
              "        google.colab.kernel.accessAllowed ? 'block' : 'none';\n",
              "\n",
              "      async function convertToInteractive(key) {\n",
              "        const element = document.querySelector('#df-2ac6a2d2-c575-423d-9643-d5e46e0667fd');\n",
              "        const dataTable =\n",
              "          await google.colab.kernel.invokeFunction('convertToInteractive',\n",
              "                                                    [key], {});\n",
              "        if (!dataTable) return;\n",
              "\n",
              "        const docLinkHtml = 'Like what you see? Visit the ' +\n",
              "          '<a target=\"_blank\" href=https://colab.research.google.com/notebooks/data_table.ipynb>data table notebook</a>'\n",
              "          + ' to learn more about interactive tables.';\n",
              "        element.innerHTML = '';\n",
              "        dataTable['output_type'] = 'display_data';\n",
              "        await google.colab.output.renderOutput(dataTable, element);\n",
              "        const docLink = document.createElement('div');\n",
              "        docLink.innerHTML = docLinkHtml;\n",
              "        element.appendChild(docLink);\n",
              "      }\n",
              "    </script>\n",
              "  </div>\n",
              "\n",
              "\n",
              "<div id=\"df-7300541c-5d18-4b73-b2ce-41488404431a\">\n",
              "  <button class=\"colab-df-quickchart\" onclick=\"quickchart('df-7300541c-5d18-4b73-b2ce-41488404431a')\"\n",
              "            title=\"Suggest charts\"\n",
              "            style=\"display:none;\">\n",
              "\n",
              "<svg xmlns=\"http://www.w3.org/2000/svg\" height=\"24px\"viewBox=\"0 0 24 24\"\n",
              "     width=\"24px\">\n",
              "    <g>\n",
              "        <path d=\"M19 3H5c-1.1 0-2 .9-2 2v14c0 1.1.9 2 2 2h14c1.1 0 2-.9 2-2V5c0-1.1-.9-2-2-2zM9 17H7v-7h2v7zm4 0h-2V7h2v10zm4 0h-2v-4h2v4z\"/>\n",
              "    </g>\n",
              "</svg>\n",
              "  </button>\n",
              "\n",
              "<style>\n",
              "  .colab-df-quickchart {\n",
              "      --bg-color: #E8F0FE;\n",
              "      --fill-color: #1967D2;\n",
              "      --hover-bg-color: #E2EBFA;\n",
              "      --hover-fill-color: #174EA6;\n",
              "      --disabled-fill-color: #AAA;\n",
              "      --disabled-bg-color: #DDD;\n",
              "  }\n",
              "\n",
              "  [theme=dark] .colab-df-quickchart {\n",
              "      --bg-color: #3B4455;\n",
              "      --fill-color: #D2E3FC;\n",
              "      --hover-bg-color: #434B5C;\n",
              "      --hover-fill-color: #FFFFFF;\n",
              "      --disabled-bg-color: #3B4455;\n",
              "      --disabled-fill-color: #666;\n",
              "  }\n",
              "\n",
              "  .colab-df-quickchart {\n",
              "    background-color: var(--bg-color);\n",
              "    border: none;\n",
              "    border-radius: 50%;\n",
              "    cursor: pointer;\n",
              "    display: none;\n",
              "    fill: var(--fill-color);\n",
              "    height: 32px;\n",
              "    padding: 0;\n",
              "    width: 32px;\n",
              "  }\n",
              "\n",
              "  .colab-df-quickchart:hover {\n",
              "    background-color: var(--hover-bg-color);\n",
              "    box-shadow: 0 1px 2px rgba(60, 64, 67, 0.3), 0 1px 3px 1px rgba(60, 64, 67, 0.15);\n",
              "    fill: var(--button-hover-fill-color);\n",
              "  }\n",
              "\n",
              "  .colab-df-quickchart-complete:disabled,\n",
              "  .colab-df-quickchart-complete:disabled:hover {\n",
              "    background-color: var(--disabled-bg-color);\n",
              "    fill: var(--disabled-fill-color);\n",
              "    box-shadow: none;\n",
              "  }\n",
              "\n",
              "  .colab-df-spinner {\n",
              "    border: 2px solid var(--fill-color);\n",
              "    border-color: transparent;\n",
              "    border-bottom-color: var(--fill-color);\n",
              "    animation:\n",
              "      spin 1s steps(1) infinite;\n",
              "  }\n",
              "\n",
              "  @keyframes spin {\n",
              "    0% {\n",
              "      border-color: transparent;\n",
              "      border-bottom-color: var(--fill-color);\n",
              "      border-left-color: var(--fill-color);\n",
              "    }\n",
              "    20% {\n",
              "      border-color: transparent;\n",
              "      border-left-color: var(--fill-color);\n",
              "      border-top-color: var(--fill-color);\n",
              "    }\n",
              "    30% {\n",
              "      border-color: transparent;\n",
              "      border-left-color: var(--fill-color);\n",
              "      border-top-color: var(--fill-color);\n",
              "      border-right-color: var(--fill-color);\n",
              "    }\n",
              "    40% {\n",
              "      border-color: transparent;\n",
              "      border-right-color: var(--fill-color);\n",
              "      border-top-color: var(--fill-color);\n",
              "    }\n",
              "    60% {\n",
              "      border-color: transparent;\n",
              "      border-right-color: var(--fill-color);\n",
              "    }\n",
              "    80% {\n",
              "      border-color: transparent;\n",
              "      border-right-color: var(--fill-color);\n",
              "      border-bottom-color: var(--fill-color);\n",
              "    }\n",
              "    90% {\n",
              "      border-color: transparent;\n",
              "      border-bottom-color: var(--fill-color);\n",
              "    }\n",
              "  }\n",
              "</style>\n",
              "\n",
              "  <script>\n",
              "    async function quickchart(key) {\n",
              "      const quickchartButtonEl =\n",
              "        document.querySelector('#' + key + ' button');\n",
              "      quickchartButtonEl.disabled = true;  // To prevent multiple clicks.\n",
              "      quickchartButtonEl.classList.add('colab-df-spinner');\n",
              "      try {\n",
              "        const charts = await google.colab.kernel.invokeFunction(\n",
              "            'suggestCharts', [key], {});\n",
              "      } catch (error) {\n",
              "        console.error('Error during call to suggestCharts:', error);\n",
              "      }\n",
              "      quickchartButtonEl.classList.remove('colab-df-spinner');\n",
              "      quickchartButtonEl.classList.add('colab-df-quickchart-complete');\n",
              "    }\n",
              "    (() => {\n",
              "      let quickchartButtonEl =\n",
              "        document.querySelector('#df-7300541c-5d18-4b73-b2ce-41488404431a button');\n",
              "      quickchartButtonEl.style.display =\n",
              "        google.colab.kernel.accessAllowed ? 'block' : 'none';\n",
              "    })();\n",
              "  </script>\n",
              "</div>\n",
              "\n",
              "  <div id=\"id_840d4a94-a19e-4444-8b50-44d06df68ae0\">\n",
              "    <style>\n",
              "      .colab-df-generate {\n",
              "        background-color: #E8F0FE;\n",
              "        border: none;\n",
              "        border-radius: 50%;\n",
              "        cursor: pointer;\n",
              "        display: none;\n",
              "        fill: #1967D2;\n",
              "        height: 32px;\n",
              "        padding: 0 0 0 0;\n",
              "        width: 32px;\n",
              "      }\n",
              "\n",
              "      .colab-df-generate:hover {\n",
              "        background-color: #E2EBFA;\n",
              "        box-shadow: 0px 1px 2px rgba(60, 64, 67, 0.3), 0px 1px 3px 1px rgba(60, 64, 67, 0.15);\n",
              "        fill: #174EA6;\n",
              "      }\n",
              "\n",
              "      [theme=dark] .colab-df-generate {\n",
              "        background-color: #3B4455;\n",
              "        fill: #D2E3FC;\n",
              "      }\n",
              "\n",
              "      [theme=dark] .colab-df-generate:hover {\n",
              "        background-color: #434B5C;\n",
              "        box-shadow: 0px 1px 3px 1px rgba(0, 0, 0, 0.15);\n",
              "        filter: drop-shadow(0px 1px 2px rgba(0, 0, 0, 0.3));\n",
              "        fill: #FFFFFF;\n",
              "      }\n",
              "    </style>\n",
              "    <button class=\"colab-df-generate\" onclick=\"generateWithVariable('valid')\"\n",
              "            title=\"Generate code using this dataframe.\"\n",
              "            style=\"display:none;\">\n",
              "\n",
              "  <svg xmlns=\"http://www.w3.org/2000/svg\" height=\"24px\"viewBox=\"0 0 24 24\"\n",
              "       width=\"24px\">\n",
              "    <path d=\"M7,19H8.4L18.45,9,17,7.55,7,17.6ZM5,21V16.75L18.45,3.32a2,2,0,0,1,2.83,0l1.4,1.43a1.91,1.91,0,0,1,.58,1.4,1.91,1.91,0,0,1-.58,1.4L9.25,21ZM18.45,9,17,7.55Zm-12,3A5.31,5.31,0,0,0,4.9,8.1,5.31,5.31,0,0,0,1,6.5,5.31,5.31,0,0,0,4.9,4.9,5.31,5.31,0,0,0,6.5,1,5.31,5.31,0,0,0,8.1,4.9,5.31,5.31,0,0,0,12,6.5,5.46,5.46,0,0,0,6.5,12Z\"/>\n",
              "  </svg>\n",
              "    </button>\n",
              "    <script>\n",
              "      (() => {\n",
              "      const buttonEl =\n",
              "        document.querySelector('#id_840d4a94-a19e-4444-8b50-44d06df68ae0 button.colab-df-generate');\n",
              "      buttonEl.style.display =\n",
              "        google.colab.kernel.accessAllowed ? 'block' : 'none';\n",
              "\n",
              "      buttonEl.onclick = () => {\n",
              "        google.colab.notebook.generateWithVariable('valid');\n",
              "      }\n",
              "      })();\n",
              "    </script>\n",
              "  </div>\n",
              "\n",
              "    </div>\n",
              "  </div>\n"
            ],
            "application/vnd.google.colaboratory.intrinsic+json": {
              "type": "dataframe",
              "variable_name": "valid",
              "summary": "{\n  \"name\": \"valid\",\n  \"rows\": 12,\n  \"fields\": [\n    {\n      \"column\": \"Year-Month\",\n      \"properties\": {\n        \"dtype\": \"date\",\n        \"min\": \"2023-04-01 00:00:00\",\n        \"max\": \"2024-03-01 00:00:00\",\n        \"num_unique_values\": 12,\n        \"samples\": [\n          \"2024-02-01 00:00:00\",\n          \"2024-01-01 00:00:00\",\n          \"2023-04-01 00:00:00\"\n        ],\n        \"semantic_type\": \"\",\n        \"description\": \"\"\n      }\n    },\n    {\n      \"column\": \"Cases\",\n      \"properties\": {\n        \"dtype\": \"number\",\n        \"std\": 403,\n        \"min\": 9,\n        \"max\": 1205,\n        \"num_unique_values\": 10,\n        \"samples\": [\n          113,\n          917,\n          31\n        ],\n        \"semantic_type\": \"\",\n        \"description\": \"\"\n      }\n    },\n    {\n      \"column\": \"Predictions\",\n      \"properties\": {\n        \"dtype\": \"number\",\n        \"std\": 379.0650250657492,\n        \"min\": 4.2692084,\n        \"max\": 1154.6022,\n        \"num_unique_values\": 12,\n        \"samples\": [\n          59.55363,\n          54.546368,\n          1154.6022\n        ],\n        \"semantic_type\": \"\",\n        \"description\": \"\"\n      }\n    }\n  ]\n}"
            }
          },
          "metadata": {},
          "execution_count": 11
        }
      ],
      "source": [
        "# Show the valid and predicted prices\n",
        "valid"
      ]
    },
    {
      "cell_type": "code",
      "execution_count": null,
      "metadata": {
        "id": "tiYSsqhgJl-k"
      },
      "outputs": [],
      "source": [
        "predictions=[1154.6022,830.2475,476.8461,156.91954,4.2692084,6.6395555,16.613388,35.807884,51.690372,54.546368,59.55363,70.32487]"
      ]
    },
    {
      "cell_type": "code",
      "execution_count": null,
      "metadata": {
        "id": "ZxPdk9VhMBAy",
        "colab": {
          "base_uri": "https://localhost:8080/"
        },
        "outputId": "dfd8b841-33cf-425c-874d-659d02777930"
      },
      "outputs": [
        {
          "output_type": "execute_result",
          "data": {
            "text/plain": [
              "Year-Month\n",
              "2023-04-01    1205\n",
              "2023-05-01     917\n",
              "2023-06-01     448\n",
              "2023-07-01      98\n",
              "2023-08-01      16\n",
              "2023-09-01      16\n",
              "2023-10-01      31\n",
              "2023-11-01      16\n",
              "2023-12-01      25\n",
              "2024-01-01      73\n",
              "2024-02-01     113\n",
              "2024-03-01       9\n",
              "Name: Cases, dtype: int64"
            ]
          },
          "metadata": {},
          "execution_count": 30
        }
      ],
      "source": [
        "valid[\"Cases\"]"
      ]
    },
    {
      "cell_type": "code",
      "execution_count": null,
      "metadata": {
        "id": "166qefHhgplo",
        "colab": {
          "base_uri": "https://localhost:8080/"
        },
        "outputId": "76683971-a61a-4258-ae09-d721d8098318"
      },
      "outputs": [
        {
          "output_type": "stream",
          "name": "stdout",
          "text": [
            "Test RMSE: 43.6504\n",
            "Mean Absolute Error (MAE): 36.676409675\n",
            "Mean Squared Logarithmic Error (MSLE): 0.6700030239023028\n",
            "Mean Absolute Percentage Error (MAPE): 1.035797649623616\n"
          ]
        }
      ],
      "source": [
        "from sklearn.metrics import mean_squared_error\n",
        "error = np.sqrt(mean_squared_error(valid[\"Cases\"],predictions))\n",
        "print('Test RMSE: %.4f' % error)\n",
        "\n",
        "from sklearn.metrics import mean_absolute_error\n",
        "mae = mean_absolute_error(valid[\"Cases\"],predictions)\n",
        "print(\"Mean Absolute Error (MAE):\", mae)\n",
        "\n",
        "from sklearn.metrics import mean_squared_log_error\n",
        "msle = mean_squared_log_error(valid[\"Cases\"],predictions)\n",
        "print(\"Mean Squared Logarithmic Error (MSLE):\", msle)\n",
        "\n",
        "from sklearn.metrics import mean_absolute_percentage_error\n",
        "print('Mean Absolute Percentage Error (MAPE):',mean_absolute_percentage_error(valid[\"Cases\"],predictions))"
      ]
    },
    {
      "cell_type": "code",
      "execution_count": null,
      "metadata": {
        "id": "rtgNWXyhV8UE",
        "colab": {
          "base_uri": "https://localhost:8080/"
        },
        "outputId": "f6f924c5-fa4d-4bd5-9888-0a4af45b0f55"
      },
      "outputs": [
        {
          "output_type": "execute_result",
          "data": {
            "text/plain": [
              "Year-Month\n",
              "2023-04-01    1205\n",
              "2023-05-01     917\n",
              "2023-06-01     448\n",
              "2023-07-01      98\n",
              "2023-08-01      16\n",
              "2023-09-01      16\n",
              "2023-10-01      31\n",
              "2023-11-01      16\n",
              "2023-12-01      25\n",
              "2024-01-01      73\n",
              "2024-02-01     113\n",
              "2024-03-01       9\n",
              "Name: Cases, dtype: int64"
            ]
          },
          "metadata": {},
          "execution_count": 15
        }
      ],
      "source": [
        "valid[\"Cases\"]"
      ]
    },
    {
      "cell_type": "code",
      "execution_count": null,
      "metadata": {
        "id": "HAlblOAzV-KJ",
        "colab": {
          "base_uri": "https://localhost:8080/"
        },
        "outputId": "11473f1c-fd00-4b87-d0d9-859545b4d99f"
      },
      "outputs": [
        {
          "output_type": "execute_result",
          "data": {
            "text/plain": [
              "[1154.6022,\n",
              " 830.2475,\n",
              " 476.8461,\n",
              " 156.91954,\n",
              " 4.2692084,\n",
              " 6.6395555,\n",
              " 16.613388,\n",
              " 35.807884,\n",
              " 51.690372,\n",
              " 54.546368,\n",
              " 59.55363,\n",
              " 70.32487]"
            ]
          },
          "metadata": {},
          "execution_count": 16
        }
      ],
      "source": [
        "predictions"
      ]
    },
    {
      "cell_type": "code",
      "execution_count": null,
      "metadata": {
        "id": "jiIzsLabz_6Y",
        "colab": {
          "base_uri": "https://localhost:8080/",
          "height": 709
        },
        "outputId": "3deef444-4fe5-4f1a-9a08-910a006a5b91"
      },
      "outputs": [
        {
          "output_type": "stream",
          "name": "stdout",
          "text": [
            "1/1 [==============================] - 0s 66ms/step\n",
            "1/1 [==============================] - 0s 64ms/step\n",
            "1/1 [==============================] - 0s 105ms/step\n",
            "1/1 [==============================] - 0s 129ms/step\n",
            "1/1 [==============================] - 0s 78ms/step\n",
            "1/1 [==============================] - 0s 86ms/step\n"
          ]
        },
        {
          "output_type": "display_data",
          "data": {
            "text/plain": [
              "<Figure size 1600x600 with 1 Axes>"
            ],
            "image/png": "[encoded data removed]"
          },
          "metadata": {}
        }
      ],
      "source": [
        "# Get the last 30 data points from the original data to predict the next 6 months\n",
        "last_30_days = scaled_data[-159:]\n",
        "# Create an empty list to store the forecasted values\n",
        "forecast = []\n",
        "\n",
        "# Predict the next value, add it to the forecast list, then use this new value to predict the next one\n",
        "for i in range(6):\n",
        "    x_input = last_30_days.reshape((1, 159, 1))\n",
        "    forecasted_value = model.predict(x_input)\n",
        "    forecast.append(forecasted_value[0][0])\n",
        "    last_30_days = np.append(last_30_days[1:], forecasted_value[0][0])\n",
        "    last_30_days = last_30_days.reshape((159, 1))\n",
        "\n",
        "# Inverse transform the forecasted values to bring them back to the original scale\n",
        "forecast = scaler.inverse_transform(np.array(forecast).reshape(-1, 1))\n",
        "\n",
        "# Create date range for the next 6 months\n",
        "current_date = df.index[-1]\n",
        "date_range = pd.date_range(start=current_date, periods=7, freq='M')[1:]\n",
        "\n",
        "# Create a DataFrame for the forecasted values\n",
        "forecast_df = pd.DataFrame(forecast, index=date_range, columns=['Forecast'])\n",
        "\n",
        "# Plot the original data along with the forecast\n",
        "plt.figure(figsize=(16, 6))\n",
        "plt.plot(df.index, df['Cases'], label='Actual Cases')\n",
        "plt.plot(forecast_df.index, forecast_df['Forecast'], label='Forecasted Cases', linestyle='-')\n",
        "plt.title('Forecast for the Next 6 Months')\n",
        "plt.xlabel('Year-Month')\n",
        "plt.ylabel('Cases')\n",
        "plt.legend()\n",
        "plt.show()"
      ]
    },
    {
      "cell_type": "code",
      "execution_count": null,
      "metadata": {
        "id": "psQQOa78LG5U",
        "colab": {
          "base_uri": "https://localhost:8080/"
        },
        "outputId": "715c926c-0661-4ad6-a4db-37c61d390fe6"
      },
      "outputs": [
        {
          "output_type": "stream",
          "name": "stderr",
          "text": [
            "/usr/local/lib/python3.10/dist-packages/keras/src/engine/training.py:3103: UserWarning: You are saving your model as an HDF5 file via `model.save()`. This file format is considered legacy. We recommend using instead the native Keras format, e.g. `model.save('my_model.keras')`.\n",
            "  saving_api.save_model(\n"
          ]
        }
      ],
      "source": [
        "#from keras.models import load_model\n",
        "\n",
        "\n",
        "#model.save('/content/drive/MyDrive/Colab Notebooks/Measles/kamerun_lstm_model-0.4-b8-e50.h5')\n",
        "\n",
        "\n",
        "#loaded_model = load_model('/content/drive/MyDrive/Colab Notebooks/Measles/kamerun_lstm_model-0.4-b8-e50.h5')\n",
        "\n",
        "\n",
        "#predictions_loaded_model = loaded_model.predict(x_test)\n",
        "#predictions_loaded_model = scaler.inverse_transform(predictions_loaded_model)"
      ]
    },
    {
      "cell_type": "code",
      "execution_count": null,
      "metadata": {
        "id": "9tJD8zkaLJuu",
        "colab": {
          "base_uri": "https://localhost:8080/",
          "height": 159
        },
        "outputId": "50960dad-40a2-46ac-fa8e-9616f7f7a445"
      },
      "outputs": [
        {
          "output_type": "error",
          "ename": "NameError",
          "evalue": "name 'forecast_df' is not defined",
          "traceback": [
            "\u001b[0;31m---------------------------------------------------------------------------\u001b[0m",
            "\u001b[0;31mNameError\u001b[0m                                 Traceback (most recent call last)",
            "\u001b[0;32m<ipython-input-19-9bbf88c86faa>\u001b[0m in \u001b[0;36m<cell line: 1>\u001b[0;34m()\u001b[0m\n\u001b[0;32m----> 1\u001b[0;31m \u001b[0mforecast_df\u001b[0m \u001b[0;34m=\u001b[0m \u001b[0mforecast_df\u001b[0m\u001b[0;34m.\u001b[0m\u001b[0mrename\u001b[0m\u001b[0;34m(\u001b[0m\u001b[0mcolumns\u001b[0m \u001b[0;34m=\u001b[0m \u001b[0;34m{\u001b[0m\u001b[0;34m'Forecast'\u001b[0m\u001b[0;34m:\u001b[0m\u001b[0;34m'Cases'\u001b[0m\u001b[0;34m}\u001b[0m\u001b[0;34m)\u001b[0m\u001b[0;34m\u001b[0m\u001b[0;34m\u001b[0m\u001b[0m\n\u001b[0m\u001b[1;32m      2\u001b[0m \u001b[0mforecast_df\u001b[0m\u001b[0;34m.\u001b[0m\u001b[0mhead\u001b[0m\u001b[0;34m(\u001b[0m\u001b[0;34m)\u001b[0m\u001b[0;34m\u001b[0m\u001b[0;34m\u001b[0m\u001b[0m\n",
            "\u001b[0;31mNameError\u001b[0m: name 'forecast_df' is not defined"
          ]
        }
      ],
      "source": [
        "forecast_df = forecast_df.rename(columns = {'Forecast':'Cases'})\n",
        "forecast_df.head()"
      ]
    },
    {
      "cell_type": "code",
      "execution_count": null,
      "metadata": {
        "id": "_ESedOsxLvgP"
      },
      "outputs": [],
      "source": [
        "asd=valid[\"Cases\"]"
      ]
    },
    {
      "cell_type": "code",
      "execution_count": null,
      "metadata": {
        "id": "zt1GGKt6L3e_",
        "colab": {
          "base_uri": "https://localhost:8080/",
          "height": 141
        },
        "outputId": "d3df133e-14cf-413e-d2f2-5c0de5921a5f"
      },
      "outputs": [
        {
          "output_type": "error",
          "ename": "NameError",
          "evalue": "name 'forecast_df' is not defined",
          "traceback": [
            "\u001b[0;31m---------------------------------------------------------------------------\u001b[0m",
            "\u001b[0;31mNameError\u001b[0m                                 Traceback (most recent call last)",
            "\u001b[0;32m<ipython-input-18-805dbb5ee2bd>\u001b[0m in \u001b[0;36m<cell line: 1>\u001b[0;34m()\u001b[0m\n\u001b[0;32m----> 1\u001b[0;31m \u001b[0mforecast_df\u001b[0m\u001b[0;34m\u001b[0m\u001b[0;34m\u001b[0m\u001b[0m\n\u001b[0m",
            "\u001b[0;31mNameError\u001b[0m: name 'forecast_df' is not defined"
          ]
        }
      ],
      "source": [
        "forecast_df"
      ]
    },
    {
      "cell_type": "code",
      "source": [
        "# Get the last 30 data points from the original data to predict the next 6 months\n",
        "last_30_days = scaled_data[-159:]\n",
        "# Create an empty list to store the forecasted values\n",
        "forecast = []\n",
        "\n",
        "# Predict the next value, add it to the forecast list, then use this new value to predict the next one\n",
        "for i in range(6):\n",
        "    x_input = last_30_days.reshape((1, 159, 1))\n",
        "    forecasted_value = model.predict(x_input)\n",
        "    forecast.append(forecasted_value[0][0])\n",
        "    last_30_days = np.append(last_30_days[1:], forecasted_value[0][0])\n",
        "    last_30_days = last_30_days.reshape((159, 1))\n",
        "\n",
        "# Inverse transform the forecasted values to bring them back to the original scale\n",
        "forecast = scaler.inverse_transform(np.array(forecast).reshape(-1, 1))\n",
        "\n",
        "# Create date range for the next 6 months\n",
        "current_date = df.index[-1]\n",
        "date_range = pd.date_range(start=current_date, periods=7, freq='M')[1:]\n",
        "\n",
        "# Create a DataFrame for the forecasted values\n",
        "forecast_df = pd.DataFrame(forecast, index=date_range, columns=['Forecast'])\n",
        "\n",
        "# Plot the original data along with the forecast\n",
        "plt.figure(figsize=(16, 6))\n",
        "plt.plot(df.index, df['Cases'], label='Actual Cases')\n",
        "plt.plot(forecast_df.index, forecast_df['Forecast'], label='Forecasted Cases', linestyle='-')\n",
        "plt.title('Forecast for the Next 6 Months')\n",
        "plt.xlabel('Year-Month')\n",
        "plt.ylabel('Cases')\n",
        "plt.legend()\n",
        "plt.show()"
      ],
      "metadata": {
        "colab": {
          "base_uri": "https://localhost:8080/",
          "height": 211
        },
        "id": "MxxekwacsFOF",
        "outputId": "df588373-8faf-4e6b-b5fc-dd15753b67e3"
      },
      "execution_count": null,
      "outputs": [
        {
          "output_type": "error",
          "ename": "NameError",
          "evalue": "name 'model' is not defined",
          "traceback": [
            "\u001b[0;31m---------------------------------------------------------------------------\u001b[0m",
            "\u001b[0;31mNameError\u001b[0m                                 Traceback (most recent call last)",
            "\u001b[0;32m<ipython-input-26-04f133916144>\u001b[0m in \u001b[0;36m<cell line: 7>\u001b[0;34m()\u001b[0m\n\u001b[1;32m      7\u001b[0m \u001b[0;32mfor\u001b[0m \u001b[0mi\u001b[0m \u001b[0;32min\u001b[0m \u001b[0mrange\u001b[0m\u001b[0;34m(\u001b[0m\u001b[0;36m6\u001b[0m\u001b[0;34m)\u001b[0m\u001b[0;34m:\u001b[0m\u001b[0;34m\u001b[0m\u001b[0;34m\u001b[0m\u001b[0m\n\u001b[1;32m      8\u001b[0m     \u001b[0mx_input\u001b[0m \u001b[0;34m=\u001b[0m \u001b[0mlast_30_days\u001b[0m\u001b[0;34m.\u001b[0m\u001b[0mreshape\u001b[0m\u001b[0;34m(\u001b[0m\u001b[0;34m(\u001b[0m\u001b[0;36m1\u001b[0m\u001b[0;34m,\u001b[0m \u001b[0;36m159\u001b[0m\u001b[0;34m,\u001b[0m \u001b[0;36m1\u001b[0m\u001b[0;34m)\u001b[0m\u001b[0;34m)\u001b[0m\u001b[0;34m\u001b[0m\u001b[0;34m\u001b[0m\u001b[0m\n\u001b[0;32m----> 9\u001b[0;31m     \u001b[0mforecasted_value\u001b[0m \u001b[0;34m=\u001b[0m \u001b[0mmodel\u001b[0m\u001b[0;34m.\u001b[0m\u001b[0mpredict\u001b[0m\u001b[0;34m(\u001b[0m\u001b[0mx_input\u001b[0m\u001b[0;34m)\u001b[0m\u001b[0;34m\u001b[0m\u001b[0;34m\u001b[0m\u001b[0m\n\u001b[0m\u001b[1;32m     10\u001b[0m     \u001b[0mforecast\u001b[0m\u001b[0;34m.\u001b[0m\u001b[0mappend\u001b[0m\u001b[0;34m(\u001b[0m\u001b[0mforecasted_value\u001b[0m\u001b[0;34m[\u001b[0m\u001b[0;36m0\u001b[0m\u001b[0;34m]\u001b[0m\u001b[0;34m[\u001b[0m\u001b[0;36m0\u001b[0m\u001b[0;34m]\u001b[0m\u001b[0;34m)\u001b[0m\u001b[0;34m\u001b[0m\u001b[0;34m\u001b[0m\u001b[0m\n\u001b[1;32m     11\u001b[0m     \u001b[0mlast_30_days\u001b[0m \u001b[0;34m=\u001b[0m \u001b[0mnp\u001b[0m\u001b[0;34m.\u001b[0m\u001b[0mappend\u001b[0m\u001b[0;34m(\u001b[0m\u001b[0mlast_30_days\u001b[0m\u001b[0;34m[\u001b[0m\u001b[0;36m1\u001b[0m\u001b[0;34m:\u001b[0m\u001b[0;34m]\u001b[0m\u001b[0;34m,\u001b[0m \u001b[0mforecasted_value\u001b[0m\u001b[0;34m[\u001b[0m\u001b[0;36m0\u001b[0m\u001b[0;34m]\u001b[0m\u001b[0;34m[\u001b[0m\u001b[0;36m0\u001b[0m\u001b[0;34m]\u001b[0m\u001b[0;34m)\u001b[0m\u001b[0;34m\u001b[0m\u001b[0;34m\u001b[0m\u001b[0m\n",
            "\u001b[0;31mNameError\u001b[0m: name 'model' is not defined"
          ]
        }
      ]
    },
    {
      "cell_type": "code",
      "execution_count": null,
      "metadata": {
        "id": "JxgmugoHL0Ty",
        "colab": {
          "base_uri": "https://localhost:8080/"
        },
        "outputId": "1d98f299-473f-460c-f5e0-5474f991b62e"
      },
      "outputs": [
        {
          "output_type": "stream",
          "name": "stderr",
          "text": [
            "<ipython-input-14-a398365e0864>:1: SettingWithCopyWarning: \n",
            "A value is trying to be set on a copy of a slice from a DataFrame\n",
            "\n",
            "See the caveats in the documentation: https://pandas.pydata.org/pandas-docs/stable/user_guide/indexing.html#returning-a-view-versus-a-copy\n",
            "  asd.loc['2024-04-01'] = 45\n",
            "<ipython-input-14-a398365e0864>:2: SettingWithCopyWarning: \n",
            "A value is trying to be set on a copy of a slice from a DataFrame\n",
            "\n",
            "See the caveats in the documentation: https://pandas.pydata.org/pandas-docs/stable/user_guide/indexing.html#returning-a-view-versus-a-copy\n",
            "  asd.loc['2024-05-01'] = 41\n",
            "<ipython-input-14-a398365e0864>:3: SettingWithCopyWarning: \n",
            "A value is trying to be set on a copy of a slice from a DataFrame\n",
            "\n",
            "See the caveats in the documentation: https://pandas.pydata.org/pandas-docs/stable/user_guide/indexing.html#returning-a-view-versus-a-copy\n",
            "  asd.loc['2024-06-01'] = 42\n",
            "<ipython-input-14-a398365e0864>:4: SettingWithCopyWarning: \n",
            "A value is trying to be set on a copy of a slice from a DataFrame\n",
            "\n",
            "See the caveats in the documentation: https://pandas.pydata.org/pandas-docs/stable/user_guide/indexing.html#returning-a-view-versus-a-copy\n",
            "  asd.loc['2024-07-01'] = 46\n",
            "<ipython-input-14-a398365e0864>:5: SettingWithCopyWarning: \n",
            "A value is trying to be set on a copy of a slice from a DataFrame\n",
            "\n",
            "See the caveats in the documentation: https://pandas.pydata.org/pandas-docs/stable/user_guide/indexing.html#returning-a-view-versus-a-copy\n",
            "  asd.loc['2024-08-01'] = 47\n",
            "<ipython-input-14-a398365e0864>:6: SettingWithCopyWarning: \n",
            "A value is trying to be set on a copy of a slice from a DataFrame\n",
            "\n",
            "See the caveats in the documentation: https://pandas.pydata.org/pandas-docs/stable/user_guide/indexing.html#returning-a-view-versus-a-copy\n",
            "  asd.loc['2024-09-01'] = 48\n"
          ]
        }
      ],
      "source": [
        "asd.loc['2024-04-01'] = 45\n",
        "asd.loc['2024-05-01'] = 41\n",
        "asd.loc['2024-06-01'] = 42\n",
        "asd.loc['2024-07-01'] = 46\n",
        "asd.loc['2024-08-01'] = 47\n",
        "asd.loc['2024-09-01'] = 48"
      ]
    },
    {
      "cell_type": "code",
      "execution_count": null,
      "metadata": {
        "id": "ul-Qmi0lMCkq"
      },
      "outputs": [],
      "source": [
        "asd = asd.iloc[12:]"
      ]
    },
    {
      "cell_type": "code",
      "source": [
        "import matplotlib.pyplot as plt\n",
        "\n",
        "# Assuming 'asd' contains your forecasted values\n",
        "\n",
        "# Plot the data\n",
        "plt.figure(figsize=(16, 6))\n",
        "plt.title('Cameroon')\n",
        "plt.xlabel('Year-Month', fontsize=18)\n",
        "plt.ylabel('Cases', fontsize=18)\n",
        "\n",
        "# Plot actual cases\n",
        "plt.plot(valid['Cases'], color='#0981b5', marker='o', linewidth=2, label='Actual')\n",
        "\n",
        "# Plot predicted cases\n",
        "plt.plot(valid['Predictions'], color='#f78614', marker='o', linestyle='--', linewidth=2, label='Predicted')\n",
        "\n",
        "# Plot forecasted cases\n",
        "plt.plot(forecasting.index, forecasting.values, color='green', marker='o', linewidth=2, label='Forecast')\n",
        "\n",
        "# Dashed line connecting predicted and forecasted values\n",
        "plt.plot([valid.index[-1], forecasting.index[0]], [valid['Predictions'].iloc[-1], forecasting.iloc[0]], 'k--', linewidth=2)\n",
        "\n",
        "# Annotate forecasted values\n",
        "for i, txt in enumerate(forecasting.values):\n",
        "    plt.annotate(txt, (forecasting.index[i], forecasting.values[i]), xytext=(-6, 10), textcoords='offset points', fontsize=10)\n",
        "\n",
        "# Legend and display\n",
        "plt.legend(loc='upper right')\n",
        "plt.show()"
      ],
      "metadata": {
        "colab": {
          "base_uri": "https://localhost:8080/",
          "height": 606
        },
        "id": "wxe74GtfsgCG",
        "outputId": "9297af16-122f-4602-afca-7b70830098ef"
      },
      "execution_count": null,
      "outputs": [
        {
          "output_type": "display_data",
          "data": {
            "text/plain": [
              "<Figure size 1600x600 with 1 Axes>"
            ],
            "image/png": "[encoded data removed]"
          },
          "metadata": {}
        }
      ]
    }
  ],
  "metadata": {
    "colab": {
      "provenance": []
    },
    "kernelspec": {
      "display_name": "Python 3",
      "name": "python3"
    },
    "language_info": {
      "name": "python"
    }
  },
  "nbformat": 4,
  "nbformat_minor": 0
}